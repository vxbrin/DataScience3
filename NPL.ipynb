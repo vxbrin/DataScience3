{
  "nbformat": 4,
  "nbformat_minor": 0,
  "metadata": {
    "colab": {
      "provenance": [],
      "toc_visible": true,
      "authorship_tag": "ABX9TyM5RzxT+AM7f8s98F8ppnd4",
      "include_colab_link": true
    },
    "kernelspec": {
      "name": "python3",
      "display_name": "Python 3"
    },
    "language_info": {
      "name": "python"
    }
  },
  "cells": [
    {
      "cell_type": "markdown",
      "metadata": {
        "id": "view-in-github",
        "colab_type": "text"
      },
      "source": [
        "<a href=\"https://colab.research.google.com/github/vxbrin/DataScience3/blob/main/NPL.ipynb\" target=\"_parent\"><img src=\"https://colab.research.google.com/assets/colab-badge.svg\" alt=\"Open In Colab\"/></a>"
      ]
    },
    {
      "cell_type": "markdown",
      "source": [
        "###NLP"
      ],
      "metadata": {
        "id": "xj1DMvPcjaGo"
      }
    },
    {
      "cell_type": "markdown",
      "source": [
        "##Instalar e importar librerias y file"
      ],
      "metadata": {
        "id": "KfbTXcARjgR1"
      }
    },
    {
      "cell_type": "code",
      "source": [
        "#Instalar Spacy\n",
        "\n",
        "!python -m spacy download es_core_news_md"
      ],
      "metadata": {
        "id": "a7Cqln5iHouF"
      },
      "execution_count": null,
      "outputs": []
    },
    {
      "cell_type": "code",
      "source": [
        "#Importar Libreria\n",
        "\n",
        "import spacy\n",
        "nlp = spacy.load(\"es_core_news_md\")\n",
        "\n"
      ],
      "metadata": {
        "id": "FSGAIe9eIovC"
      },
      "execution_count": null,
      "outputs": []
    },
    {
      "cell_type": "code",
      "source": [
        "# Importar el file\n",
        "\n",
        "from google.colab import drive\n",
        "drive.mount('/content/drive')\n",
        "import pandas as pd\n",
        "\n",
        "# Try reading the CSV and skipping bad lines\n",
        "try:\n",
        "    films = pd.read_csv('/content/drive/My Drive/films.csv', on_bad_lines='skip')\n",
        "    print(films.head())\n",
        "except Exception as e:\n",
        "    print(f\"Error reading CSV with skipped bad lines: {e}\")\n",
        "    print(\"Could not read the CSV file. Please check the file format and content.\")"
      ],
      "metadata": {
        "id": "a0Qx1VRLXSBC"
      },
      "execution_count": null,
      "outputs": []
    },
    {
      "cell_type": "code",
      "source": [
        "import pandas as pd\n",
        "films = pd.read_csv('/content/drive/My Drive/films.csv', sep='\\|\\|', engine='python', on_bad_lines='skip')\n",
        "print(films.head())\n"
      ],
      "metadata": {
        "id": "DPfHMbWPZNFM"
      },
      "execution_count": null,
      "outputs": []
    },
    {
      "cell_type": "markdown",
      "source": [
        "##Funcion detección de Stopwords"
      ],
      "metadata": {
        "id": "QicEQsoNjsG1"
      }
    },
    {
      "cell_type": "code",
      "source": [
        "# Deteccion de Stopwords para poder eliminarlas y realizar el analisis con un mejor resultado\n",
        "\n",
        "import pandas as pd\n",
        "# Create a list of stopwords\n",
        "stopwords = spacy.lang.es.stop_words.STOP_WORDS\n",
        "\n",
        "# Function to detect stopwords\n",
        "def detect_stopwords(text):\n",
        "  doc = nlp(text)\n",
        "  stopwords_found = [token.text for token in doc if token.text.lower() in stopwords]\n",
        "  return stopwords_found\n",
        "\n",
        "# Apply the function to the 'review_text' column and create a new column\n",
        "films['detected_stopwords'] = films['review_text'].apply(lambda x: detect_stopwords(str(x) if pd.notna(x) else ''))\n",
        "\n",
        "# Display the first few rows with the new column\n",
        "print(films[['review_text', 'detected_stopwords']].head())"
      ],
      "metadata": {
        "id": "jNWjWJ-paFpV",
        "colab": {
          "base_uri": "https://localhost:8080/"
        },
        "outputId": "c7e29eee-bd4c-4736-ce5a-1a0e4b44c37e"
      },
      "execution_count": null,
      "outputs": [
        {
          "output_type": "stream",
          "name": "stdout",
          "text": [
            "                                         review_text  \\\n",
            "0  La mayor virtud de esta película es su existen...   \n",
            "1  No soy un experto cinéfilo, pero pocas veces m...   \n",
            "2  Si no eres un incondicional del humor estilo T...   \n",
            "3  No sé qué está pasando, si la gente se deja ll...   \n",
            "4  \"Pero cuando amanece,y me quedo solo,siento en...   \n",
            "\n",
            "                                  detected_stopwords  \n",
            "0  [La, mayor, de, esta, es, su, El, hecho, de, q...  \n",
            "1  [No, soy, un, pero, pocas, veces, me, había, t...  \n",
            "2  [Si, no, eres, un, del, no, de, de, qué, se, l...  \n",
            "3  [No, sé, qué, está, si, la, se, llevar, por, l...  \n",
            "4  [Pero, cuando, y, me, solo, en, el, un, que, y...  \n"
          ]
        }
      ]
    },
    {
      "cell_type": "markdown",
      "source": [
        "## Función Lematización"
      ],
      "metadata": {
        "id": "PLrEf7-vkPd6"
      }
    },
    {
      "cell_type": "code",
      "source": [
        "# prompt: lematizacion de la columna review_text\n",
        "\n",
        "import pandas as pd\n",
        "# Function for lemmatization\n",
        "def lemmatize_text(text):\n",
        "  doc = nlp(text)\n",
        "  lemmatized_tokens = [token.lemma_ for token in doc if token.text.lower() not in stopwords]\n",
        "  return \" \".join(lemmatized_tokens)\n",
        "\n",
        "# Apply the lemmatization function to the 'review_text' column and create a new column\n",
        "films['lemmatized_review'] = films['review_text'].apply(lambda x: lemmatize_text(str(x) if pd.notna(x) else ''))\n",
        "\n",
        "# Display the first few rows with the new column\n",
        "print(films[['review_text', 'lemmatized_review']].head())"
      ],
      "metadata": {
        "colab": {
          "base_uri": "https://localhost:8080/"
        },
        "id": "8QILE2v2ejSW",
        "outputId": "f63f44af-0f69-4e7b-c5e9-4ebce530d108"
      },
      "execution_count": null,
      "outputs": [
        {
          "output_type": "stream",
          "name": "stdout",
          "text": [
            "                                         review_text  \\\n",
            "0  La mayor virtud de esta película es su existen...   \n",
            "1  No soy un experto cinéfilo, pero pocas veces m...   \n",
            "2  Si no eres un incondicional del humor estilo T...   \n",
            "3  No sé qué está pasando, si la gente se deja ll...   \n",
            "4  \"Pero cuando amanece,y me quedo solo,siento en...   \n",
            "\n",
            "                                   lemmatized_review  \n",
            "0  virtud película existencia . poder jugar tópic...  \n",
            "1  experto cinéfilo , sentir juego sala cine : au...  \n",
            "2  incondicional humor estilo Tele 5.si terminar ...  \n",
            "3  pasar , gente dejar moda , gustar poner Dani R...  \n",
            "4  \" amanecer , quedar , sentir fondoun mar vacío...  \n"
          ]
        }
      ]
    }
  ]
}