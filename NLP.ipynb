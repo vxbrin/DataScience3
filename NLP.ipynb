{
  "nbformat": 4,
  "nbformat_minor": 0,
  "metadata": {
    "colab": {
      "provenance": [],
      "toc_visible": true,
      "authorship_tag": "ABX9TyOhh2K2qOIRV1/zPfXg5Es0",
      "include_colab_link": true
    },
    "kernelspec": {
      "name": "python3",
      "display_name": "Python 3"
    },
    "language_info": {
      "name": "python"
    }
  },
  "cells": [
    {
      "cell_type": "markdown",
      "metadata": {
        "id": "view-in-github",
        "colab_type": "text"
      },
      "source": [
        "<a href=\"https://colab.research.google.com/github/vxbrin/DataScience3/blob/main/NLP.ipynb\" target=\"_parent\"><img src=\"https://colab.research.google.com/assets/colab-badge.svg\" alt=\"Open In Colab\"/></a>"
      ]
    },
    {
      "cell_type": "markdown",
      "source": [
        "###NLP"
      ],
      "metadata": {
        "id": "xj1DMvPcjaGo"
      }
    },
    {
      "cell_type": "markdown",
      "source": [
        "##Instalar e importar librerias y file"
      ],
      "metadata": {
        "id": "KfbTXcARjgR1"
      }
    },
    {
      "cell_type": "code",
      "source": [
        "#Instalar Spacy\n",
        "\n",
        "!python -m spacy download es_core_news_md"
      ],
      "metadata": {
        "colab": {
          "base_uri": "https://localhost:8080/"
        },
        "id": "a7Cqln5iHouF",
        "outputId": "f15155b3-2894-433f-a932-2b2fbd418a32"
      },
      "execution_count": null,
      "outputs": [
        {
          "output_type": "stream",
          "name": "stdout",
          "text": [
            "Collecting es-core-news-md==3.8.0\n",
            "  Using cached https://github.com/explosion/spacy-models/releases/download/es_core_news_md-3.8.0/es_core_news_md-3.8.0-py3-none-any.whl (42.3 MB)\n",
            "\u001b[38;5;2m✔ Download and installation successful\u001b[0m\n",
            "You can now load the package via spacy.load('es_core_news_md')\n",
            "\u001b[38;5;3m⚠ Restart to reload dependencies\u001b[0m\n",
            "If you are in a Jupyter or Colab notebook, you may need to restart Python in\n",
            "order to load all the package's dependencies. You can do this by selecting the\n",
            "'Restart kernel' or 'Restart runtime' option.\n"
          ]
        }
      ]
    },
    {
      "cell_type": "code",
      "source": [
        "#Importar Libreria\n",
        "\n",
        "import spacy\n",
        "nlp = spacy.load(\"es_core_news_md\")\n",
        "\n"
      ],
      "metadata": {
        "id": "FSGAIe9eIovC"
      },
      "execution_count": null,
      "outputs": []
    },
    {
      "cell_type": "code",
      "source": [
        "# Importar el file\n",
        "\n",
        "from google.colab import drive\n",
        "drive.mount('/content/drive')\n",
        "import pandas as pd\n",
        "\n",
        "# Try reading the CSV and skipping bad lines\n",
        "try:\n",
        "    films = pd.read_csv('/content/drive/My Drive/films.csv', on_bad_lines='skip')\n",
        "    print(films.head())\n",
        "except Exception as e:\n",
        "    print(f\"Error reading CSV with skipped bad lines: {e}\")\n",
        "    print(\"Could not read the CSV file. Please check the file format and content.\")"
      ],
      "metadata": {
        "colab": {
          "base_uri": "https://localhost:8080/"
        },
        "id": "a0Qx1VRLXSBC",
        "outputId": "d209d6f2-966f-40bb-d452-5a83e49fe90d"
      },
      "execution_count": 105,
      "outputs": [
        {
          "output_type": "stream",
          "name": "stdout",
          "text": [
            "Drive already mounted at /content/drive; to attempt to forcibly remount, call drive.mount(\"/content/drive\", force_remount=True).\n",
            "                                                                                                                                                                                                                                                                                                                                                                                                                                                                                                                                                                                                                                                                                                                                                                                                                                                                                                                                                                                                                                                                                                                                                                                                                                                                                                                                                                                                                                                                                                                                                                                                                                                                                                                                                                                                                                                                                                                                                                                                                                                                                                                                                                                            film_name||gender||film_avg_rate||review_rate||review_title||review_text\n",
            "Ocho apellidos vascos||Comedia||6 0||3||OCHO APELLIDOS VASCOS...Y NINGÚN NOMBRE P...  indica mucho de nuestra madurez como nación (p...  corrijo: el hecho de que podamos jugar y hacer...  sin que nadie se escandalice ni ponga el grito...  indica mucho del grado de normalización de cie...  porque los andaluces han sido motivo de guasa ...  el planteamiento de \"Ocho Apellidos Vascos\" es...  es oportuno y es oportunista. Seguramente sea ...  en una masa casi sin precedentes                   a los cines a ver este producto patrocinado po...  la cual aplaudo y celebro.Eso es todo lo que p...  muy a mi pesar.Siempre digo y repito eso de \"e...  y siempre insisto en que \"no hay que olvidar q...  ni lo suficientemente friki                        ni lo suficientemente disparatada para ser una...  o Xanadu o Condemor). Y desgraciadamente no es...  que no sencilla. Es impersonal y lo peor: está...  y no por novedoso (sacar un elemento de su ent...  sino por lo que explicaba al principio.Pero to...  o no lo hacen en absoluto. Toda la película es...  pasando por todas las situaciones \"cómicas\" de...  César                  que ya te oigo replicarme: \"que todas las hist...  pero se pueden seguir contando con un poco de ...  o al menos de formas                               si no originales                             sí convincentes. Y volvemos al principal probl...  el guión el desarrollo. Una grandísima parte d...  con suerte                                         a la mitad de su recorrido. Pocos son los cine...  menos aún en rematarlas y en hacer que las cos...  se olvidan de poner \"El Guión\" como asignatura...  aunque torpemente presentado y ante la incapacidad (o la falta de ganas) de ...  del cual no sabe cómo salir aunque todos intuímos (y tememos) desde el prin... con sus inspirados monólogos y su desparpajo  y Karra Elejalde dando vida la único personaje...  y de Clara Lago...llamarla actriz sería insult... hay unas cuantas situaciones capaces de arranca... e incluso carcajadas y - sí resulta entretenida (a ratos). Pero me duele pe...  como casi todos los ámbitos de poder   está en manos de los mediocres. Y me duele pe...                      \n",
            "                                  0||2||El perro verde||No soy un experto cinéfilo    pero pocas veces me había sentido tan fuera de...  esta sensación se acrecienta                       y voy cogiendo tonos atornasolados. La películ...  por supuesto) me enfrento a este engendro y se...  ¡decidme que no me estoy volviendo loco! ¿¿De ... NaN                                                NaN                                                NaN                                                NaN                                                NaN                                                NaN                                                NaN                                                NaN                                                NaN                                                NaN                                                NaN                                                NaN                                                NaN                                                NaN                                                NaN                                                NaN                    NaN                                                NaN                                                NaN                                                NaN                                          NaN                                                NaN                                                NaN                                                NaN                                                NaN                                                NaN                                                NaN                           NaN                                                NaN                          NaN                                                NaN                                          NaN                                                NaN                                                NaN                                                NaN                         NaN                                                NaN                                                                                  NaN                      \n",
            "                                  0||2||Si no eres de comer mierda... no te comas... NaN                                                NaN                                                NaN                                                NaN                                                NaN                                                NaN                                                NaN                                                NaN                                                NaN                                                NaN                                                NaN                                                NaN                                                NaN                                                NaN                                                NaN                                                NaN                                                NaN                                                NaN                                                NaN                                                NaN                                                NaN                    NaN                                                NaN                                                NaN                                                NaN                                          NaN                                                NaN                                                NaN                                                NaN                                                NaN                                                NaN                                                NaN                           NaN                                                NaN                          NaN                                                NaN                                          NaN                                                NaN                                                NaN                                                NaN                         NaN                                                NaN                                                                                  NaN                      \n",
            "                                  0||2||Aida: The movie||No sé qué está pasando       si la gente se deja llevar por las modas           si de verdad les gusta o sólo van porque les p...  pero el éxito desmedido de Ocho apellidos vasc...  tenía que saber si realmente estábamos ante un...  fresco e inteligente… pero no...La película es...  mal enlazados y llevados por la vulgaridad. La...  como bien hizo la grandísima Bienvenidos al norte  pero en lugar de eso nos encontramos con unas ...  la película parece un capítulo largo de dicha ...  Ocho apellidos vascos no es creíble en ningún ...  no encuentro la gracia al chaval este y me tem...  sosíma: ¿Dónde quedo la muchacha de El viaje d...  aunque su personaje resulte a veces insoportab...  Alfonso Sánchez y Alberto López                    que están muy divertidos en cada escasa aparic...  como andaluz insultado y como cinéfilo que soy...  pero que sea con algo mejor de mayor calidad y...  cierto grupo musical al final de la película. ... NaN                                                NaN                                                NaN                    NaN                                                NaN                                                NaN                                                NaN                                          NaN                                                NaN                                                NaN                                                NaN                                                NaN                                                NaN                                                NaN                           NaN                                                NaN                          NaN                                                NaN                                          NaN                                                NaN                                                NaN                                                NaN                         NaN                                                NaN                                                                                  NaN                      \n",
            "                                  0||2||UN HOMBRE SOLO (Julio Iglesias 1987)||\"Pe... y me quedo solo                                    siento en el fondoun mar vacío                     un seco río                                        que grita y gritaque sólo soyun hombre solo        un hombre solo                                     un hombre solo\".Pues bien                           después de ver esta película es así como me si...  \"Un hombre solo\" rodeado de gente que en masa ...  que se ha reído y ha disfrutado                    que no deja de entusiasmarse recordando sus gags   y que gracias a esta ella                          muchos que hacía siglos que no iba al cine         ahora están llenando las salas.\"Voy de abrazo ... de beso en risa                                    me dan la mano                                     cuando es precisa\"Y yo                              que pensaba en mi mismo como un ser sociable       que trata y se rodea de personas todo el día       me enfrento a este vacío sideral que supone no...  aburrirme como una marmota                         bostezar como un león  mientras alrededor de mi todo era felicidad        risas y alegría.Tal es mi estado de alejamient...  que he tenido que recurrir a un filósofo de la...  para encontrar en sus aterciopeladas letras  la dimensión real de la soledad que me atenaza...  pues soy yo solo contra todo un país.De que si...  de que sirve que las situaciones me parezcan t...  como absurdas e inverosímiles                      que valor puede tener que un asocial como yo p...  y que si le doy un 2 es por Karra Elejalde         y porque es española         que si no sería un cero. No merezco ser tenido ...  lo sé .......... estoy solo soy un hombre solo                                 completamente solo.                          NaN                                                NaN                                                NaN                                                NaN                         NaN                                                NaN                                                                                  NaN                      \n"
          ]
        }
      ]
    },
    {
      "cell_type": "markdown",
      "source": [
        "##Funcion detección de Stopwords"
      ],
      "metadata": {
        "id": "QicEQsoNjsG1"
      }
    },
    {
      "cell_type": "code",
      "source": [
        "# Deteccion de Stop Words para luego poder elimiar las palabras repetidas que no hacen a la esencia de las frases. Suelen ser conectores y palabras cortas.\n",
        "\n",
        "stopwords = spacy.lang.es.stop_words.STOP_WORDS\n",
        "print(f\"Stopwords cargadas : {len(stopwords)}\")\n",
        "\n",
        "print(\"nTokens sin stopwords:\")\n",
        "for token in doc:\n",
        "  if not token.is_stop:\n",
        "    print(token.text)\n",
        "\n"
      ],
      "metadata": {
        "colab": {
          "base_uri": "https://localhost:8080/"
        },
        "id": "2Dd5cVY9iJjx",
        "outputId": "9a8478dd-bc4d-4a11-cb3a-f27329673964"
      },
      "execution_count": 108,
      "outputs": [
        {
          "output_type": "stream",
          "name": "stdout",
          "text": [
            "Stopwords cargadas : 521\n",
            "nTokens sin stopwords:\n",
            "i\n",
            "know\n",
            "lot\n",
            "but\n",
            "i\n",
            "feel\n",
            "so\n",
            "stupid\n",
            "because\n",
            "i\n",
            "can\n",
            "not\n",
            "portray\n",
            "it;sadness\n",
            "\n",
            "\n"
          ]
        }
      ]
    },
    {
      "cell_type": "markdown",
      "source": [
        "## Función Lematización"
      ],
      "metadata": {
        "id": "PLrEf7-vkPd6"
      }
    },
    {
      "cell_type": "code",
      "source": [
        "#Lematización para poder agrupar luego las palabras en lemas o conceptos, reduce la cantidad de palabras a conceptos especificos para poder analizarlos luego\n",
        "\n",
        "print(\"Lematización:\")\n",
        "for token in doc:\n",
        "  print(token.text, token.lemma_)"
      ],
      "metadata": {
        "colab": {
          "base_uri": "https://localhost:8080/"
        },
        "id": "Qqsig5wrkTc9",
        "outputId": "3a506fa0-7844-42e3-bcac-9c660aa62692"
      },
      "execution_count": 109,
      "outputs": [
        {
          "output_type": "stream",
          "name": "stdout",
          "text": [
            "Lematización:\n",
            "i i\n",
            "know know\n",
            "a a\n",
            "lot lot\n",
            "but but\n",
            "i i\n",
            "feel feel\n",
            "so so\n",
            "stupid stupid\n",
            "because because\n",
            "i i\n",
            "can can\n",
            "not not\n",
            "portray portray\n",
            "it;sadness it;sadness\n",
            "\n",
            " \n",
            "\n"
          ]
        }
      ]
    }
  ]
}